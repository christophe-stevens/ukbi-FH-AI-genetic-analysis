{
 "cells": [
  {
   "cell_type": "markdown",
   "id": "0d937df0",
   "metadata": {},
   "source": [
    "## Create all required methods"
   ]
  },
  {
   "cell_type": "code",
   "execution_count": null,
   "id": "e0140d19",
   "metadata": {},
   "outputs": [],
   "source": [
    "library(data.table)\n",
    "\n",
    "getDistro <- function(ldls, genotype, het =T){\n",
    "  if (het){\n",
    "    sampleZyg <- subset(genotype$sample, het == 1)\n",
    "  }else{\n",
    "    sampleZyg <- subset(genotype$sample, hom == 1)\n",
    "  }\n",
    "  sampleZyg$eid <- as.numeric(sampleZyg$eid)\n",
    "  dataset <- merge( sampleZyg, ldls, by=\"eid\", all.x=T)\n",
    "  treated <- subset(dataset, llm_bl==1 )\n",
    "  untreated <-  subset(dataset, llm_bl==0)\n",
    "  ls <- list() \n",
    "  ls[[1]] <-  dataset$max_ldl\n",
    "  ls[[2]] <-  treated$max_ldl\n",
    "  ls[[3]] <-  untreated$max_ldl\n",
    "  \n",
    "  ls2 <- list() \n",
    "  ls2[[1]] <-  dataset$eid\n",
    "  ls2[[2]] <-  treated$eid\n",
    "  ls2[[3]] <-  untreated$eid\n",
    "  return(list(LDL=ls, EID= ls2))\n",
    "}\n",
    "\n",
    "getsummaryLine <- function(values, variant){\n",
    "  return(sprintf(\"%.2f(%.2f,%.2f,%.2f,%.2f)\\nnind=%i,\\nnvar=%i\", median(values ,na.rm=T), summary(values,na.rm=T)[1], summary(values,na.rm=T)[2], summary(values,na.rm=T)[5], summary(values,na.rm=T)[6], length(values), variant))\n",
    "}\n",
    "getsummary <- function(distros, variant){\n",
    "  return(list(getsummaryLine(distros[[1]],variant),\n",
    "              getsummaryLine(distros[[2]],variant),\n",
    "              getsummaryLine(distros[[3]],variant)))\n",
    "} \n",
    "\n",
    "getData <- function(fileName){\n",
    "  fileName <- paste(fileName,\".participants\", sep=\"\")\n",
    "  if(file.exists(paste(fileName,\".bed\", sep=\"\"))){\n",
    "    out.mat  <- snpStats::read.plink(paste(fileName, \".bed\", sep=\"\"), paste(fileName, \".bim\", sep=\"\"), paste(fileName, \".fam\", sep=\"\"))\n",
    "    status_het   <-  apply(as(out.mat$genotypes[rownames(out.mat$fam), ], 'numeric'), 1, FUN = function(x){ ifelse(sum(na.omit(x)==1)>=1,1,0) })\n",
    "    gc()\n",
    "    status_hom   <-  apply(as(out.mat$genotypes[rownames(out.mat$fam), ], 'numeric'), 1, FUN = function(x){ ifelse(sum(na.omit(x)==0)>=1,1,0) })\n",
    "    gc()\n",
    "    \n",
    "    eid <- rownames(out.mat$fam)\n",
    "    ## calculate mean (IQR) count for Het and Hom\n",
    "    genotype <- list(sample = data.table(eid = eid, \n",
    "                                        het = status_het , \n",
    "                                        hom = status_hom),\n",
    "                      variant = nrow(out.mat$map))\n",
    "\n",
    "    return(genotype)\n",
    "  }else{\n",
    "    return(NULL)\n",
    "  }\n",
    "}"
   ]
  },
  {
   "cell_type": "markdown",
   "id": "bc11c4df",
   "metadata": {},
   "source": [
    "## Load Data"
   ]
  },
  {
   "cell_type": "code",
   "execution_count": null,
   "id": "73035357",
   "metadata": {},
   "outputs": [],
   "source": [
    "phenotype <- as.data.frame(fread(\"data_participant.tsv\"))"
   ]
  },
  {
   "cell_type": "code",
   "execution_count": null,
   "id": "cd4eb41a",
   "metadata": {},
   "outputs": [],
   "source": [
    "phenotype$max_ldl <- apply(phenotype[,c(\"p30780_i0\", \"p30780_i1\")],1, FUN=function(x){ ifelse(length(na.omit(x))==0, NA, max(na.omit(x)))})\n",
    "phenotype$llm_bl <- apply( phenotype[,c('p6177_i0','p6177_i1','p6177_i2','p6177_i3')], 1, FUN = function(x){\n",
    "    ifelse(sum(grepl(\"Cholesterol lowering medication\", x))>=1,1,0)\n",
    "})"
   ]
  },
  {
   "cell_type": "code",
   "execution_count": null,
   "id": "8dfd7791",
   "metadata": {},
   "outputs": [],
   "source": [
    "pheno <- phenotype[,c(\"eid\", \"max_ldl\", \"llm_bl\")]"
   ]
  },
  {
   "cell_type": "markdown",
   "id": "a0915353",
   "metadata": {},
   "source": [
    "## Genetic Analysis \n",
    "### LDLR\n",
    "#### LDL-C Levels, variant and individuals"
   ]
  },
  {
   "cell_type": "code",
   "execution_count": null,
   "id": "db45e821",
   "metadata": {},
   "outputs": [],
   "source": [
    "files <- c(\"predicted.pathogenic\",\"predicted.missense.pathogenic\",\"predicted.nonmissense.pathogenic\",\n",
    "           \"predicted.benign\",\"predicted.missense.benign\",\"predicted.nonmissense.benign\",\n",
    "           \"predicted.VUS\",\"predicted.missense.VUS\",\"predicted.nonmissense.VUS\",\n",
    "           \"clinvar.pathogenic\",\"clinvar.missense.pathogenic\",\"clinvar.nonmissense.pathogenic\",\n",
    "           \"clinvar.benign\",\"clinvar.missense.benign\",\"clinvar.nonmissense.benign\",\n",
    "           \"clinvar.VUS\",\"clinvar.missense.VUS\",\"clinvar.nonmissense.VUS\",           \n",
    "           \"pathogenic\",\"missense.pathogenic\",\"nonmissense.pathogenic\",\n",
    "           \"benign\",\"missense.benign\",\"nonmissense.benign\",\n",
    "           \"VUS\",\"missense.VUS\",\"nonmissense.VUS\")"
   ]
  },
  {
   "cell_type": "code",
   "execution_count": null,
   "id": "f028fff3",
   "metadata": {},
   "outputs": [],
   "source": [
    "lsLDL<- list()\n",
    "lsEID<- list()\n",
    "lsName<- list()\n",
    "for (f in files){\n",
    "        data1 <- getData(paste(\"genes/Chr19/bed/\", f, sep=\"\"))\n",
    "        distros <- getDistro(pheno, data1, het=T )\n",
    "        lsName[[ length(lsName) + 1 ]] <- f\n",
    "        lsLDL[[ length(lsLDL) + 1 ]] <- distros$LDL\n",
    "        lsEID[[ length(lsEID) + 1 ]] <- distros$EID\n",
    "        print(f)\n",
    "        print('overall')\n",
    "        print(getsummaryLine(lsLDL[[length(lsLDL)]][[1]],data1$variant))\n",
    "        print('treated')\n",
    "        print(getsummaryLine(lsLDL[[length(lsLDL)]][[2]],data1$variant))\n",
    "        print('untreated')\n",
    "        print(getsummaryLine(lsLDL[[length(lsLDL)]][[3]],data1$variant))\n",
    "        cat(\"\\n\\n\")\n",
    "}"
   ]
  },
  {
   "cell_type": "markdown",
   "id": "98e1f1aa",
   "metadata": {},
   "source": [
    "#### Statistical Test: Difference LDL Predicted vs Clinvar"
   ]
  },
  {
   "cell_type": "code",
   "execution_count": null,
   "id": "1600292b",
   "metadata": {},
   "outputs": [],
   "source": [
    "\n",
    "showStats <- function(tbl){\n",
    "    for (row in 1:nrow(tbl)){\n",
    "        cat(paste(files[tbl[row,\"group1\"]], \" vs \", files[tbl[row,\"group2\"]]))\n",
    "        for (treatmentGroup in 1:3){\n",
    "            cat(sprintf(\"\\n%s\\n\",treatmentGroup))\n",
    "            print(round(median(lsLDL[[tbl[row,\"group1\"]]][[treatmentGroup]],na.rm=T)-\n",
    "                        median(lsLDL[[tbl[row,\"group2\"]]][[treatmentGroup]],na.rm=T),2))\n",
    "            print(wilcox.test(lsLDL[[tbl[row,\"group1\"]]][[treatmentGroup]],\n",
    "                        lsLDL[[tbl[row,\"group2\"]]][[treatmentGroup]]))\n",
    "        }\n",
    "    }\n",
    "}\n",
    "tbl_predvsclinvar <- data.frame(group1=c(1,2,3,4,5,6,7,8,9), \n",
    "                                group2=c(10,11,12,13,14,15,16,17,18))\n",
    "tbl_pathogenicvsbenign <- data.frame(group1=c(10,11,12,1,2,3,19,20,21), \n",
    "                                     group2=c(13,14,15,4,5,6,22,23,24))\n",
    "\n",
    "\n",
    "showStats( tbl_predvsclinvar )\n",
    "showStats( tbl_pathogenicvsbenign)"
   ]
  },
  {
   "cell_type": "markdown",
   "id": "4a94673f",
   "metadata": {},
   "source": [
    "#### Prevalence in LDLR gene"
   ]
  },
  {
   "cell_type": "code",
   "execution_count": null,
   "id": "92a30cd4",
   "metadata": {},
   "outputs": [],
   "source": [
    "paste(\"prevalence is 1:\", round(nrow(pheno)/length(unique(c(unlist(lsEID[[19]]))))))"
   ]
  },
  {
   "cell_type": "markdown",
   "id": "b2ae7cc4",
   "metadata": {},
   "source": [
    "#### Plot "
   ]
  },
  {
   "cell_type": "code",
   "execution_count": null,
   "id": "960d0160",
   "metadata": {},
   "outputs": [],
   "source": [
    "par(mfrow=c(2,2))\n",
    "# Overall \n",
    "plot(x=c(), y=c(), xlim=c(0,10), ylim=c(0,0.6), xlab=\"LDL-C\", ylab=\"freq\", main=\"Overall LDL-C levels\")\n",
    "lines(density(lsLDL[[10]][[1]], na.rm=T), col=\"red\")\n",
    "lines(density(lsLDL[[1]][[1]], na.rm=T), col=\"pink\")\n",
    "\n",
    "lines(density(lsLDL[[16]][[1]], na.rm=T), col=\"orange\")\n",
    "lines(density(lsLDL[[7]][[1]], na.rm=T), col=\"yellow\")\n",
    "\n",
    "lines(density(lsLDL[[13]][[1]], na.rm=T), col=\"green\")\n",
    "lines(density(lsLDL[[4]][[1]], na.rm=T), col=\"lightgreen\")\n",
    "\n",
    "plot.new()\n",
    "legend(\"center\",c(\"ClinVar Pathogenic\",\n",
    "                  \"Predicted Pathogenic\",\n",
    "                  \"ClinVar VUS\",\n",
    "                  \"Predicted VUS\",\n",
    "                  \"ClinVar Benign\",\n",
    "                  \"Predicted Benign\"),\n",
    "                col=c(\"red\",\n",
    "                      \"pink\",\n",
    "                      \"orange\",\n",
    "                      \"yellow\",\n",
    "                      \"green\",\n",
    "                      \"lightgreen\"), lty=1)\n",
    "\n",
    "\n",
    "# Treated\n",
    "plot(x=c(), y=c(), xlim=c(0,10), ylim=c(0,0.8), xlab=\"LDL-C\", ylab=\"freq\", main=\"Treated LDL-C levels\")\n",
    "lines(density(lsLDL[[10]][[2]], na.rm=T), col=\"red\")\n",
    "lines(density(lsLDL[[1]][[2]], na.rm=T), col=\"pink\")\n",
    "\n",
    "lines(density(lsLDL[[16]][[2]], na.rm=T), col=\"orange\")\n",
    "lines(density(lsLDL[[7]][[2]], na.rm=T), col=\"yellow\")\n",
    "\n",
    "lines(density(lsLDL[[13]][[2]], na.rm=T), col=\"green\")\n",
    "lines(density(lsLDL[[4]][[2]], na.rm=T), col=\"lightgreen\")\n",
    "\n",
    "\n",
    "# Untreated\n",
    "plot(x=c(), y=c(), xlim=c(0,10), ylim=c(0,0.8), xlab=\"LDL-C\", ylab=\"freq\", main=\"Untreated LDL-C levels\")\n",
    "lines(density(lsLDL[[10]][[3]], na.rm=T), col=\"red\")\n",
    "lines(density(lsLDL[[1]][[3]], na.rm=T), col=\"pink\")\n",
    "\n",
    "lines(density(lsLDL[[16]][[3]], na.rm=T), col=\"orange\")\n",
    "lines(density(lsLDL[[7]][[3]], na.rm=T), col=\"yellow\")\n",
    "\n",
    "lines(density(lsLDL[[13]][[3]], na.rm=T), col=\"green\")\n",
    "lines(density(lsLDL[[4]][[3]], na.rm=T), col=\"lightgreen\")\n"
   ]
  },
  {
   "cell_type": "markdown",
   "id": "797c0634",
   "metadata": {},
   "source": [
    "#### Test Homozygous & compound HeFH"
   ]
  },
  {
   "cell_type": "code",
   "execution_count": null,
   "id": "9db98ca0",
   "metadata": {},
   "outputs": [],
   "source": [
    "fileName  <- paste(\"genes/Chr19/bed/\", \"pathogenic.participants\", sep=\"\")\n",
    "out.mat  <- snpStats::read.plink(paste(fileName, \".bed\", sep=\"\"), paste(fileName, \".bim\", sep=\"\"), paste(fileName, \".fam\", sep=\"\"))\n",
    "status_het   <-  apply(as(out.mat$genotypes[rownames(out.mat$fam), ], 'numeric'), 1, FUN = function(x){ ifelse(sum(na.omit(x)==1)>=1,1,0) })\n",
    "status_hom   <-  apply(as(out.mat$genotypes[rownames(out.mat$fam), ], 'numeric'), 1, FUN = function(x){ ifelse(sum(na.omit(x)==0)==1,1,0) })\n",
    "status_compound_heFH   <-  apply(as(out.mat$genotypes[rownames(out.mat$fam), ], 'numeric'), 1, FUN = function(x){ ifelse(sum(na.omit(x)==1)>1,1,0) })"
   ]
  },
  {
   "cell_type": "code",
   "execution_count": null,
   "id": "60b007da",
   "metadata": {},
   "outputs": [],
   "source": [
    "sum(status_het)\n",
    "sum(status_hom)\n",
    "sum(status_compound_heFH )"
   ]
  },
  {
   "cell_type": "code",
   "execution_count": null,
   "id": "0210307a",
   "metadata": {},
   "outputs": [],
   "source": [
    "# compunds are\n",
    "lapply(which(status_compound_heFH==1), FUN = function(eid){\n",
    "    colnames(out.mat$genotypes)[which(as(out.mat$genotypes[eid,],\"numeric\")==1)]\n",
    "})"
   ]
  },
  {
   "cell_type": "code",
   "execution_count": null,
   "id": "800acc01",
   "metadata": {},
   "outputs": [],
   "source": [
    "# to retrieve the treatment and LDL\n",
    "subset(pheno, eid %in% c(\"1125055\",\"1180862\",\"3204510\",\"3380907\",\"5468065\"))[,c(\"max_ldl\",\"llm_bl\")]"
   ]
  },
  {
   "cell_type": "markdown",
   "id": "db04695c",
   "metadata": {},
   "source": [
    "### PCSK9"
   ]
  },
  {
   "cell_type": "code",
   "execution_count": null,
   "id": "3b11e17c",
   "metadata": {},
   "outputs": [],
   "source": [
    "files_pcsk9 <- c(\"clinvar.pathogenic\",\"clinvar.benign\",\"clinvar.VUS\")"
   ]
  },
  {
   "cell_type": "code",
   "execution_count": null,
   "id": "14a3875e",
   "metadata": {},
   "outputs": [],
   "source": [
    "lsLDL<- list()\n",
    "lsEID<- list()\n",
    "lsName<- list()\n",
    "for (f in files_pcsk9){\n",
    "        data1 <- getData(paste(\"genes/Chr1/bed/\", f, sep=\"\"))\n",
    "        distros <- getDistro(pheno, data1, het=T )\n",
    "        lsName[[ length(lsName) + 1 ]] <- f\n",
    "        lsLDL[[ length(lsLDL) + 1 ]] <- distros$LDL\n",
    "        lsEID[[ length(lsEID) + 1 ]] <- distros$EID\n",
    "        print(f)\n",
    "        print('overall')\n",
    "        print(getsummaryLine(lsLDL[[length(lsLDL)]][[1]],data1$variant))\n",
    "        print('treated')\n",
    "        print(getsummaryLine(lsLDL[[length(lsLDL)]][[2]],data1$variant))\n",
    "        print('untreated')\n",
    "        print(getsummaryLine(lsLDL[[length(lsLDL)]][[3]],data1$variant))\n",
    "        cat(\"\\n\\n\")\n",
    "}"
   ]
  },
  {
   "cell_type": "markdown",
   "id": "a837a145",
   "metadata": {},
   "source": [
    "#### Statistical Test"
   ]
  },
  {
   "cell_type": "code",
   "execution_count": null,
   "id": "04a43d99",
   "metadata": {},
   "outputs": [],
   "source": [
    "\n",
    "showStats <- function(tbl){\n",
    "    for (row in 1:nrow(tbl)){\n",
    "        cat(paste(files_pcsk9[tbl[row,\"group1\"]], \" vs \", files_pcsk9[tbl[row,\"group2\"]]))\n",
    "        for (treatmentGroup in 1:3){\n",
    "            cat(sprintf(\"\\n%s\\n\",treatmentGroup))\n",
    "            print(round(median(lsLDL[[tbl[row,\"group1\"]]][[treatmentGroup]],na.rm=T)-\n",
    "                        median(lsLDL[[tbl[row,\"group2\"]]][[treatmentGroup]],na.rm=T),2))\n",
    "            print(wilcox.test(lsLDL[[tbl[row,\"group1\"]]][[treatmentGroup]],\n",
    "                        lsLDL[[tbl[row,\"group2\"]]][[treatmentGroup]]))\n",
    "        }\n",
    "    }\n",
    "}\n",
    "tbl_pathogenicvsbenign <- data.frame(group1=c(1), \n",
    "                                     group2=c(2))\n",
    "\n",
    "\n",
    "showStats( tbl_pathogenicvsbenign)"
   ]
  },
  {
   "cell_type": "markdown",
   "id": "8f0d820c",
   "metadata": {},
   "source": [
    "#### Test Homozygous & compound HeFH"
   ]
  },
  {
   "cell_type": "code",
   "execution_count": null,
   "id": "1e49229e",
   "metadata": {},
   "outputs": [],
   "source": [
    "fileName  <- paste(\"genes/Chr1/bed/\", \"clinvar.pathogenic.participants\", sep=\"\")\n",
    "out.mat  <- snpStats::read.plink(paste(fileName, \".bed\", sep=\"\"), paste(fileName, \".bim\", sep=\"\"), paste(fileName, \".fam\", sep=\"\"))\n",
    "status_het   <-  apply(as(out.mat$genotypes[rownames(out.mat$fam), ], 'numeric'), 1, FUN = function(x){ ifelse(sum(na.omit(x)==1)>=1,1,0) })\n",
    "status_hom   <-  apply(as(out.mat$genotypes[rownames(out.mat$fam), ], 'numeric'), 1, FUN = function(x){ ifelse(sum(na.omit(x)==0)==1,1,0) })\n",
    "status_compound_heFH   <-  apply(as(out.mat$genotypes[rownames(out.mat$fam), ], 'numeric'), 1, FUN = function(x){ ifelse(sum(na.omit(x)==1)>1,1,0) })"
   ]
  },
  {
   "cell_type": "code",
   "execution_count": null,
   "id": "f86f683f",
   "metadata": {},
   "outputs": [],
   "source": [
    "sum(status_het)\n",
    "sum(status_hom)\n",
    "sum(status_compound_heFH )"
   ]
  },
  {
   "cell_type": "markdown",
   "id": "f225a2a3",
   "metadata": {},
   "source": [
    "### APOB"
   ]
  },
  {
   "cell_type": "code",
   "execution_count": null,
   "id": "2d550455",
   "metadata": {},
   "outputs": [],
   "source": [
    "files_apob <- c(\"clinvar.pathogenic\",\"clinvar.benign\",\"clinvar.VUS\")"
   ]
  },
  {
   "cell_type": "code",
   "execution_count": null,
   "id": "0685fc65",
   "metadata": {},
   "outputs": [],
   "source": [
    "lsLDL<- list()\n",
    "lsEID<- list()\n",
    "lsName<- list()\n",
    "for (f in files_apob){\n",
    "        data1 <- getData(paste(\"genes/Chr2/bed/\", f, sep=\"\"))\n",
    "        distros <- getDistro(pheno, data1, het=T )\n",
    "        lsName[[ length(lsName) + 1 ]] <- f\n",
    "        lsLDL[[ length(lsLDL) + 1 ]] <- distros$LDL\n",
    "        lsEID[[ length(lsEID) + 1 ]] <- distros$EID\n",
    "        print(f)\n",
    "        print('overall')\n",
    "        print(getsummaryLine(lsLDL[[length(lsLDL)]][[1]],data1$variant))\n",
    "        print('treated')\n",
    "        print(getsummaryLine(lsLDL[[length(lsLDL)]][[2]],data1$variant))\n",
    "        print('untreated')\n",
    "        print(getsummaryLine(lsLDL[[length(lsLDL)]][[3]],data1$variant))\n",
    "        cat(\"\\n\\n\")\n",
    "}"
   ]
  },
  {
   "cell_type": "markdown",
   "id": "05fd676d",
   "metadata": {},
   "source": [
    "#### Statistical Test"
   ]
  },
  {
   "cell_type": "code",
   "execution_count": null,
   "id": "56e91200",
   "metadata": {},
   "outputs": [],
   "source": [
    "\n",
    "showStats <- function(tbl){\n",
    "    for (row in 1:nrow(tbl)){\n",
    "        cat(paste(files_apob[tbl[row,\"group1\"]], \" vs \", files_apob[tbl[row,\"group2\"]]))\n",
    "        for (treatmentGroup in 1:3){\n",
    "            cat(sprintf(\"\\n%s\\n\",treatmentGroup))\n",
    "            print(round(median(lsLDL[[tbl[row,\"group1\"]]][[treatmentGroup]],na.rm=T)-\n",
    "                        median(lsLDL[[tbl[row,\"group2\"]]][[treatmentGroup]],na.rm=T),2))\n",
    "            print(wilcox.test(lsLDL[[tbl[row,\"group1\"]]][[treatmentGroup]],\n",
    "                        lsLDL[[tbl[row,\"group2\"]]][[treatmentGroup]]))\n",
    "        }\n",
    "    }\n",
    "}\n",
    "tbl_pathogenicvsbenign <- data.frame(group1=c(1), \n",
    "                                     group2=c(2))\n",
    "\n",
    "\n",
    "showStats( tbl_pathogenicvsbenign)"
   ]
  },
  {
   "cell_type": "markdown",
   "id": "d2e1d8f2",
   "metadata": {},
   "source": [
    "#### Test Homozygous & compound HeFH"
   ]
  },
  {
   "cell_type": "code",
   "execution_count": null,
   "id": "dfb79134",
   "metadata": {},
   "outputs": [],
   "source": [
    "fileName  <- paste(\"genes/Chr2/bed/\", \"clinvar.pathogenic.participants\", sep=\"\")\n",
    "out.mat  <- snpStats::read.plink(paste(fileName, \".bed\", sep=\"\"), paste(fileName, \".bim\", sep=\"\"), paste(fileName, \".fam\", sep=\"\"))\n",
    "status_het   <-  apply(as(out.mat$genotypes[rownames(out.mat$fam), ], 'numeric'), 1, FUN = function(x){ ifelse(sum(na.omit(x)==1)>=1,1,0) })\n",
    "status_hom   <-  apply(as(out.mat$genotypes[rownames(out.mat$fam), ], 'numeric'), 1, FUN = function(x){ ifelse(sum(na.omit(x)==0)==1,1,0) })\n",
    "status_compound_heFH   <-  apply(as(out.mat$genotypes[rownames(out.mat$fam), ], 'numeric'), 1, FUN = function(x){ ifelse(sum(na.omit(x)==1)>1,1,0) })"
   ]
  },
  {
   "cell_type": "code",
   "execution_count": null,
   "id": "ed357b29",
   "metadata": {},
   "outputs": [],
   "source": [
    "sum(status_het)\n",
    "sum(status_hom)\n",
    "sum(status_compound_heFH )"
   ]
  },
  {
   "cell_type": "markdown",
   "id": "d5db0425",
   "metadata": {},
   "source": [
    "### Double HEFH"
   ]
  },
  {
   "cell_type": "code",
   "execution_count": null,
   "id": "30c20fce",
   "metadata": {},
   "outputs": [],
   "source": [
    "eid_ldlr <- unique(unlist(getDistro(pheno, getData(\"genes/Chr19/bed/pathogenic\"), het=T )$EID))\n",
    "eid_pcsk9 <- unique(unlist(getDistro(pheno, getData(\"genes/Chr1/bed/clinvar.pathogenic\"), het=T )$EID))\n",
    "eid_apob <- unique(unlist(getDistro(pheno, getData(\"genes/Chr2/bed/clinvar.pathogenic\"), het=T )$EID))"
   ]
  },
  {
   "cell_type": "code",
   "execution_count": null,
   "id": "a70f2e9b",
   "metadata": {},
   "outputs": [],
   "source": [
    "length(eid_apob)\n",
    "length(eid_pcsk9)\n",
    "length(eid_ldlr)"
   ]
  },
  {
   "cell_type": "code",
   "execution_count": null,
   "id": "3c849050",
   "metadata": {},
   "outputs": [],
   "source": [
    "sum(eid_ldlr %in% eid_pcsk9)\n",
    "sum(eid_apob %in% eid_pcsk9)\n",
    "sum(eid_apob %in% eid_ldlr)"
   ]
  },
  {
   "cell_type": "markdown",
   "id": "51bb9471",
   "metadata": {},
   "source": [
    "### Total Prevalence "
   ]
  },
  {
   "cell_type": "code",
   "execution_count": null,
   "id": "3d403e64",
   "metadata": {},
   "outputs": [],
   "source": [
    "pathoPatient <- unique(c(eid_ldlr,eid_apob , eid_pcsk9))\n",
    "paste(\"prevalence is 1:\", round(nrow(pheno)/length(pathoPatient )))"
   ]
  },
  {
   "cell_type": "code",
   "execution_count": null,
   "id": "9fd175a7",
   "metadata": {},
   "outputs": [],
   "source": [
    "length(pathoPatient )"
   ]
  },
  {
   "cell_type": "markdown",
   "id": "033f427c",
   "metadata": {},
   "source": [
    "### Create Outcome files\n"
   ]
  },
  {
   "cell_type": "code",
   "execution_count": null,
   "id": "feaf63d3",
   "metadata": {},
   "outputs": [],
   "source": [
    "eid_ldlr <-  unique(unlist(getDistro(pheno, getData(\"genes/Chr19/pathogenic\"), het=T )$EID))\n",
    "eid_pcsk9 <-  unique(unlist(getDistro(pheno, getData(\"genes/Chr1/clinvar.pathogenic\"), het=T )$EID))\n",
    "eid_apob <-  unique(unlist(getDistro(pheno, getData(\"genes/Chr2/clinvar.pathogenic\"), het=T )$EID))"
   ]
  },
  {
   "cell_type": "code",
   "execution_count": null,
   "id": "fbb3b576",
   "metadata": {},
   "outputs": [],
   "source": [
    "alleid_w450k <- read.table(\"genes/Chr19/pathogenic.participants.fam\")"
   ]
  },
  {
   "cell_type": "code",
   "execution_count": null,
   "id": "aafda0a4",
   "metadata": {},
   "outputs": [],
   "source": [
    "outcome_df <- data.frame(eid=alleid_w450k$V1)\n",
    "head(outcome_df )"
   ]
  },
  {
   "cell_type": "code",
   "execution_count": null,
   "id": "15c3f279",
   "metadata": {},
   "outputs": [],
   "source": [
    "outcome_df[,\"LDLR\"] <- ifelse(outcome_df$eid %in% eid_ldlr,1,0)\n",
    "outcome_df[,\"APOB\"] <- ifelse(outcome_df$eid %in% eid_apob,1,0)\n",
    "outcome_df[,\"PCSK9\"] <- ifelse(outcome_df$eid %in% eid_pcsk9,1,0)\n",
    "outcome_df[,\"ANY\"] <- apply(outcome_df[,2:4],1, FUN=function(x){ifelse(any(x==1),1,0)})"
   ]
  },
  {
   "cell_type": "code",
   "execution_count": null,
   "id": "d190457a",
   "metadata": {},
   "outputs": [],
   "source": [
    "head(outcome_df)\n",
    "apply(outcome_df[,2:5],2, sum)"
   ]
  },
  {
   "cell_type": "code",
   "execution_count": null,
   "id": "164a8500",
   "metadata": {},
   "outputs": [],
   "source": [
    "saveRDS(outcome_df,\"outcome.rds\")"
   ]
  },
  {
   "cell_type": "code",
   "execution_count": null,
   "id": "084b7b64",
   "metadata": {},
   "outputs": [],
   "source": [
    "readRDS(\"outcome.rds\")"
   ]
  },
  {
   "cell_type": "code",
   "execution_count": null,
   "id": "972e61be",
   "metadata": {},
   "outputs": [],
   "source": []
  },
  {
   "cell_type": "code",
   "execution_count": null,
   "id": "5e0b0466",
   "metadata": {},
   "outputs": [],
   "source": []
  },
  {
   "cell_type": "code",
   "execution_count": null,
   "id": "22f76fe6",
   "metadata": {},
   "outputs": [],
   "source": []
  },
  {
   "cell_type": "code",
   "execution_count": null,
   "id": "888fab32",
   "metadata": {},
   "outputs": [],
   "source": []
  },
  {
   "cell_type": "code",
   "execution_count": null,
   "id": "046d9af5",
   "metadata": {},
   "outputs": [],
   "source": []
  }
 ],
 "metadata": {
  "kernelspec": {
   "display_name": "R",
   "language": "R",
   "name": "ir"
  },
  "language_info": {
   "codemirror_mode": "r",
   "file_extension": ".r",
   "mimetype": "text/x-r-source",
   "name": "R",
   "pygments_lexer": "r",
   "version": "4.0.2"
  }
 },
 "nbformat": 4,
 "nbformat_minor": 5
}
